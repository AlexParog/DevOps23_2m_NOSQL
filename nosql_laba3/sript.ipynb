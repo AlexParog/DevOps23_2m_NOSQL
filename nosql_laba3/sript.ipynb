{
 "cells": [
  {
   "cell_type": "code",
   "execution_count": 6,
   "metadata": {},
   "outputs": [],
   "source": [
    "import json\n",
    "import codecs\n",
    "\n",
    "def fix_errors_in_the_file(file_path):\n",
    "    with codecs.open(file_path, 'r', encoding='utf-8-sig') as file:\n",
    "        data = file.read()\n",
    "        \n",
    "        data = data.replace('_id:', '\"_id\":')  # Удалены лишние двойные кавычки после замены\n",
    "        data = data.replace('details:', '\"details\":')  # Удалены лишние двойные кавычки после замены\n",
    "        \n",
    "        corrected_data = json.loads(data)\n",
    "        \n",
    "        with codecs.open(file_path, 'w', encoding='utf-8-sig') as file:\n",
    "            json.dump(corrected_data, file, ensure_ascii=False, indent=4)\n",
    "            \n",
    "\n",
    "json_files = [\"kladr01.json\", \"kladr02.json\", \"kladr03.json\",\n",
    "              \"kladr04.json\", \"kladr05.json\", \"kladr06.json\",\n",
    "              \"kladr07.json\", \"kladr08.json\"]\n",
    "\n",
    "for filename in json_files:\n",
    "        fix_errors_in_the_file(filename)"
   ]
  },
  {
   "cell_type": "code",
   "execution_count": null,
   "metadata": {},
   "outputs": [],
   "source": []
  }
 ],
 "metadata": {
  "kernelspec": {
   "display_name": "Python 3",
   "language": "python",
   "name": "python3"
  },
  "language_info": {
   "codemirror_mode": {
    "name": "ipython",
    "version": 3
   },
   "file_extension": ".py",
   "mimetype": "text/x-python",
   "name": "python",
   "nbconvert_exporter": "python",
   "pygments_lexer": "ipython3",
   "version": "3.11.5"
  }
 },
 "nbformat": 4,
 "nbformat_minor": 2
}
